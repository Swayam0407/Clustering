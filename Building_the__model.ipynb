{
  "nbformat": 4,
  "nbformat_minor": 0,
  "metadata": {
    "colab": {
      "provenance": [],
      "authorship_tag": "ABX9TyNHme5/bPkE8sDOeIAZRZn3",
      "include_colab_link": true
    },
    "kernelspec": {
      "name": "python3",
      "display_name": "Python 3"
    },
    "language_info": {
      "name": "python"
    }
  },
  "cells": [
    {
      "cell_type": "markdown",
      "metadata": {
        "id": "view-in-github",
        "colab_type": "text"
      },
      "source": [
        "<a href=\"https://colab.research.google.com/github/Swayam0407/Clustering/blob/main/Building_the__model.ipynb\" target=\"_parent\"><img src=\"https://colab.research.google.com/assets/colab-badge.svg\" alt=\"Open In Colab\"/></a>"
      ]
    },
    {
      "cell_type": "markdown",
      "source": [
        " Install Pycaret"
      ],
      "metadata": {
        "id": "QmKvMV1ujns5"
      }
    },
    {
      "cell_type": "code",
      "metadata": {
        "id": "cF_mSA9Xim1j"
      },
      "source": [
        "!pip install pycaret &> /dev/null\n",
        "print (\"Pycaret installed sucessfully!!\")"
      ],
      "execution_count": null,
      "outputs": []
    },
    {
      "cell_type": "markdown",
      "source": [
        "Get the version of the pycaret"
      ],
      "metadata": {
        "id": "B-6iCk8ajww8"
      }
    },
    {
      "cell_type": "code",
      "metadata": {
        "id": "NHB2KMhZim1o"
      },
      "source": [
        "from pycaret.utils import version\n",
        "version()"
      ],
      "execution_count": null,
      "outputs": []
    },
    {
      "cell_type": "markdown",
      "source": [
        " Get the list of datasets available in pycaret"
      ],
      "metadata": {
        "id": "PgRq-LIlj18M"
      }
    },
    {
      "cell_type": "code",
      "source": [
        "from pycaret.datasets import get_data\n",
        "dataSets = get_data('index')"
      ],
      "metadata": {
        "id": "x8e6VXsEiSIu"
      },
      "execution_count": null,
      "outputs": []
    },
    {
      "cell_type": "markdown",
      "source": [
        "Get the \"pokemon\" dataset"
      ],
      "metadata": {
        "id": "ti-dhAA7j6uW"
      }
    },
    {
      "cell_type": "code",
      "source": [
        "pokemonDataSet = get_data(\"pokemon\")"
      ],
      "metadata": {
        "id": "QlrT5t35ibip"
      },
      "execution_count": null,
      "outputs": []
    },
    {
      "cell_type": "markdown",
      "source": [
        "Download the \"pokemon\" dataset to local system"
      ],
      "metadata": {
        "id": "m1M40Xzuj-lY"
      }
    },
    {
      "cell_type": "code",
      "source": [
        "pokemonDataSet.to_csv(\"pokemonDataSet.csv\")\n",
        "from google.colab import files\n",
        "files.download('pokemonDataSet.csv')"
      ],
      "metadata": {
        "id": "Gz0z2Hbuim0T"
      },
      "execution_count": null,
      "outputs": []
    },
    {
      "cell_type": "markdown",
      "source": [
        "Parameter setting\" for clustering model"
      ],
      "metadata": {
        "id": "GHk0odg7kFyA"
      }
    },
    {
      "cell_type": "code",
      "source": [
        "from pycaret.clustering import *\n",
        "kMeanClusteringParameters = setup(pokemonDataSet)"
      ],
      "metadata": {
        "id": "vhsyBYCXi4U8"
      },
      "execution_count": null,
      "outputs": []
    },
    {
      "cell_type": "markdown",
      "source": [
        "Building \"KMean\" clustering model"
      ],
      "metadata": {
        "id": "1zTL0WExkJFZ"
      }
    },
    {
      "cell_type": "code",
      "source": [
        "KMeanClusteringModel = create_model('kmeans', num_clusters=4)"
      ],
      "metadata": {
        "id": "ZHb5CTPoi9BW"
      },
      "execution_count": null,
      "outputs": []
    },
    {
      "cell_type": "markdown",
      "source": [
        "Assign Model - \"Assign the labels\" to the dataset"
      ],
      "metadata": {
        "id": "A8p1j5y-kMwF"
      }
    },
    {
      "cell_type": "code",
      "source": [
        "kMeanPrediction = assign_model(KMeanClusteringModel)\n",
        "kMeanPrediction"
      ],
      "metadata": {
        "id": "sD2QHTfvjCZh"
      },
      "execution_count": null,
      "outputs": []
    },
    {
      "cell_type": "markdown",
      "source": [
        "Clustering in \"Three line of code\""
      ],
      "metadata": {
        "id": "i42y6GaIkQqL"
      }
    },
    {
      "cell_type": "code",
      "source": [
        "from pycaret.clustering import *\n",
        "\n",
        "kMeanClusteringParameters = setup(pokemonDataSet, verbose=False)\n",
        "KMeanClusteringModel = create_model('kmeans', num_clusters=4)\n",
        "kMeanPrediction = assign_model(KMeanClusteringModel)\n",
        "kMeanPrediction"
      ],
      "metadata": {
        "id": "RRMVQ7eWjNtU"
      },
      "execution_count": null,
      "outputs": []
    },
    {
      "cell_type": "markdown",
      "source": [
        "\"Saving\" the result"
      ],
      "metadata": {
        "id": "0VzMq6nKkZcW"
      }
    },
    {
      "cell_type": "code",
      "source": [
        "kMeanPrediction.to_csv(\"KMeanResult.csv\")\n",
        "print(\"Result file save sucessfully!!\")"
      ],
      "metadata": {
        "id": "2wu4wsYUjVcm"
      },
      "execution_count": null,
      "outputs": []
    },
    {
      "cell_type": "markdown",
      "source": [
        "Download the \"result file\" to user local system"
      ],
      "metadata": {
        "id": "rxwYnkcxkazd"
      }
    },
    {
      "cell_type": "code",
      "source": [
        "from google.colab import files\n",
        "files.download('KMeanResult.csv')\n",
        "# Open and Explore result file (KMeanResult.csv)."
      ],
      "metadata": {
        "id": "WK-9ITpgjeaa"
      },
      "execution_count": null,
      "outputs": []
    },
    {
      "cell_type": "markdown",
      "source": [
        "Save the \"trained model\""
      ],
      "metadata": {
        "id": "neK9D7y9m6V6"
      }
    },
    {
      "cell_type": "code",
      "source": [
        "x = save_model(KMeanClusteringModel, 'kMeanClusteringModelFile')"
      ],
      "metadata": {
        "id": "wLlJWomJm5Pp"
      },
      "execution_count": null,
      "outputs": []
    },
    {
      "cell_type": "markdown",
      "source": [
        "Download the \"trained model"
      ],
      "metadata": {
        "id": "DA9U4q8AnBPj"
      }
    },
    {
      "cell_type": "code",
      "source": [
        "from google.colab import files\n",
        "files.download('kMeanClusteringModelFile.pkl')"
      ],
      "metadata": {
        "id": "GmySRPS9nA-R"
      },
      "execution_count": null,
      "outputs": []
    },
    {
      "cell_type": "markdown",
      "source": [
        "Upload the trained model"
      ],
      "metadata": {
        "id": "illDU37vpp6Z"
      }
    },
    {
      "cell_type": "code",
      "source": [
        "from google.colab import files\n",
        "files.upload()"
      ],
      "metadata": {
        "id": "HzkkalEvpn1I"
      },
      "execution_count": null,
      "outputs": []
    },
    {
      "cell_type": "markdown",
      "source": [
        "Load the trained model"
      ],
      "metadata": {
        "id": "Pfw2Joq_ptXS"
      }
    },
    {
      "cell_type": "code",
      "source": [
        "KMeanClusteringModel1 = load_model('kMeanClusteringModelFile')"
      ],
      "metadata": {
        "id": "9H7LyfJ2px25"
      },
      "execution_count": null,
      "outputs": []
    },
    {
      "cell_type": "markdown",
      "source": [
        "Use This model on unseen data"
      ],
      "metadata": {
        "id": "OWwLFIflp9Ym"
      }
    },
    {
      "cell_type": "code",
      "source": [
        "# Select top 10 rows\n",
        "newData = get_data(\"pokemon\").iloc[:10]"
      ],
      "metadata": {
        "id": "5GQmZSWdqj4e"
      },
      "execution_count": null,
      "outputs": []
    },
    {
      "cell_type": "markdown",
      "source": [
        "Make prediction on the new dataset (Unseen Data)"
      ],
      "metadata": {
        "id": "ue4yVdoNqp8F"
      }
    },
    {
      "cell_type": "code",
      "source": [
        "newPredictions = predict_model(KMeanClusteringModel, data = newData)\n",
        "newPredictions"
      ],
      "metadata": {
        "id": "Qkl69TIdqsP8"
      },
      "execution_count": null,
      "outputs": []
    },
    {
      "cell_type": "markdown",
      "source": [
        "Save the prediction result to csv"
      ],
      "metadata": {
        "id": "S0XF2Owoq05g"
      }
    },
    {
      "cell_type": "code",
      "source": [
        "newPredictions.to_csv(\"NewPredictions.csv\")\n",
        "print(\"Result file save sucessfully!!\")"
      ],
      "metadata": {
        "id": "6zuvMxWdq2yW"
      },
      "execution_count": null,
      "outputs": []
    },
    {
      "cell_type": "markdown",
      "source": [
        "Links to some csv files and models are as follows:\n",
        "\n",
        "pokemonDataset : https://docs.google.com/spreadsheets/d/1C8ULEQ7a_A0ylcHsgwjdeYuBgPukY12VynuK5dAqiSc/edit?usp=sharing\n",
        "\n",
        "pokemonDataset_results : https://docs.google.com/spreadsheets/d/1Mmn3010lPJtX7IZWKT-nEjxBnttSNNGDqpcJRkXvkBA/edit?usp=sharing\n",
        "\n",
        "newPrediction_results: https://docs.google.com/spreadsheets/d/1Alf0gpknGTzR3gYJ6R1MKPEJ5v8xep2ys6LmrsfanUY/edit?usp=sharing"
      ],
      "metadata": {
        "id": "My28G0BamB8s"
      }
    }
  ]
}